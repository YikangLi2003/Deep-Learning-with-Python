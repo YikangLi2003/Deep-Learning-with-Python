{
 "cells": [
  {
   "cell_type": "code",
   "execution_count": 1,
   "id": "f2d9310b-1013-4b44-a6c7-154671944ec9",
   "metadata": {
    "tags": []
   },
   "outputs": [],
   "source": [
    "%config Completer.use_jedi = True"
   ]
  },
  {
   "cell_type": "code",
   "execution_count": 2,
   "id": "5d082314-70c0-4e14-92ca-fc6d4ed73994",
   "metadata": {},
   "outputs": [],
   "source": [
    "from keras.datasets import imdb\n",
    "from keras import models\n",
    "from keras import layers\n",
    "from keras import optimizers\n",
    "from keras import losses\n",
    "from keras import metrics\n",
    "import numpy as np"
   ]
  },
  {
   "cell_type": "code",
   "execution_count": 3,
   "id": "db30728a-4c60-46e1-b2fa-f50ed5c775e4",
   "metadata": {},
   "outputs": [],
   "source": [
    "# 将训练数据解码为字符串\n",
    "def decode_review(index):\n",
    "    word_index = imdb.get_word_index() # e.g \"hello\" : 123\n",
    "    reverse_word_index = dict([(value, key) for (key, value) in word_index.items()]) # e.g 123 : \"hello\"\n",
    "    decode_review = \" \".join([reverse_word_index.get(i - 3, '?') for i in train_data[index]])\n",
    "    print(decode_review)"
   ]
  },
  {
   "cell_type": "code",
   "execution_count": 4,
   "id": "b234f876-1872-454e-a518-9bcbb38a1df5",
   "metadata": {},
   "outputs": [],
   "source": [
    "# 将整数序列训练数据编码为二进制矩阵\n",
    "def vectorize_sequences(sequences, dimension=10000):\n",
    "    results = np.zeros((len(sequences), dimension))\n",
    "    for i, sequence in enumerate(sequences):\n",
    "        # e.g results[5, [4, 5, 6]] = 1\n",
    "        # results[5][4] and results[5][5] and results[5][6] are set as 1\n",
    "        # other elements remain 0\n",
    "        results[i, sequence] = 1.\n",
    "    return results"
   ]
  },
  {
   "cell_type": "code",
   "execution_count": 5,
   "id": "ef725f3f-55b7-458e-8dc4-faa7d275851c",
   "metadata": {
    "tags": []
   },
   "outputs": [],
   "source": [
    "# data: 二维列表 每行是一条评论 行的内容是单词编号组成的列表\n",
    "# label: 一维列表 元素由0和1构成 表示对应的评论情感为积极还是消极\n",
    "(train_data, train_labels), (test_data, test_labels) = imdb.load_data(num_words=10000)\n",
    "# train (n, 10000): 把原本每一行编码为10000维向量 每个维度的值为0或1 表示编号为该维度的单词是否存\n",
    "# label [1. 0. 1. 0. ......]: 由0和1构成的numpy数组 表示该索引的评论情感 \n",
    "x_train = vectorize_sequences(train_data)\n",
    "x_test = vectorize_sequences(test_data)\n",
    "y_train = np.asarray(train_labels).astype(\"float32\") \n",
    "y_test = np.asarray(test_labels).astype(\"float32\")"
   ]
  },
  {
   "cell_type": "code",
   "execution_count": 6,
   "id": "b977ff42-f5f9-4211-8de1-c86fa24b2acc",
   "metadata": {},
   "outputs": [],
   "source": [
    "# 构建神经网络\n",
    "model = models.Sequential()\n",
    "model.add(layers.Dense(16, activation='relu', input_shape=(10000,)))\n",
    "model.add(layers.Dense(16, activation='relu')) # input shape 自动兼容上层的 output\n",
    "model.add(layers.Dense(1, activation='sigmoid')) # 最后一层只有一个神经元 输出一个标量\n"
   ]
  },
  {
   "cell_type": "code",
   "execution_count": 7,
   "metadata": {},
   "outputs": [],
   "source": [
    "# 编译模型 配置优化器 损失函数 评估模型的指标\n",
    "model.compile(optimizer='rmsprop',\n",
    "              loss='binary_crossentropy',\n",
    "              metrics=['acc'])"
   ]
  },
  {
   "cell_type": "code",
   "execution_count": 8,
   "metadata": {},
   "outputs": [],
   "source": [
    "# 留出验证集\n",
    "x_val = x_train[:10000]\n",
    "partial_x_train = x_train[10000:]\n",
    "y_val = y_train[:10000]\n",
    "partial_y_train = y_train[10000:]"
   ]
  },
  {
   "cell_type": "code",
   "execution_count": 9,
   "metadata": {},
   "outputs": [
    {
     "name": "stdout",
     "output_type": "stream",
     "text": [
      "Epoch 1/20\n",
      "30/30 [==============================] - 1s 31ms/step - loss: 0.5802 - acc: 0.7152 - val_loss: 0.4653 - val_acc: 0.8568\n",
      "Epoch 2/20\n",
      "30/30 [==============================] - 0s 10ms/step - loss: 0.3803 - acc: 0.8882 - val_loss: 0.3489 - val_acc: 0.8781\n",
      "Epoch 3/20\n",
      "30/30 [==============================] - 0s 9ms/step - loss: 0.2796 - acc: 0.9143 - val_loss: 0.3002 - val_acc: 0.8879\n",
      "Epoch 4/20\n",
      "30/30 [==============================] - 0s 9ms/step - loss: 0.2213 - acc: 0.9295 - val_loss: 0.2830 - val_acc: 0.8895\n",
      "Epoch 5/20\n",
      "30/30 [==============================] - 0s 9ms/step - loss: 0.1858 - acc: 0.9397 - val_loss: 0.2770 - val_acc: 0.8881\n",
      "Epoch 6/20\n",
      "30/30 [==============================] - 0s 8ms/step - loss: 0.1563 - acc: 0.9523 - val_loss: 0.2794 - val_acc: 0.8880\n",
      "Epoch 7/20\n",
      "30/30 [==============================] - 0s 9ms/step - loss: 0.1377 - acc: 0.9581 - val_loss: 0.2957 - val_acc: 0.8827\n",
      "Epoch 8/20\n",
      "30/30 [==============================] - 0s 9ms/step - loss: 0.1203 - acc: 0.9631 - val_loss: 0.2943 - val_acc: 0.8835\n",
      "Epoch 9/20\n",
      "30/30 [==============================] - 0s 9ms/step - loss: 0.1025 - acc: 0.9709 - val_loss: 0.3120 - val_acc: 0.8813\n",
      "Epoch 10/20\n",
      "30/30 [==============================] - 0s 8ms/step - loss: 0.0872 - acc: 0.9766 - val_loss: 0.3285 - val_acc: 0.8789\n",
      "Epoch 11/20\n",
      "30/30 [==============================] - 0s 9ms/step - loss: 0.0777 - acc: 0.9797 - val_loss: 0.3436 - val_acc: 0.8777\n",
      "Epoch 12/20\n",
      "30/30 [==============================] - 0s 9ms/step - loss: 0.0666 - acc: 0.9846 - val_loss: 0.3532 - val_acc: 0.8796\n",
      "Epoch 13/20\n",
      "30/30 [==============================] - 0s 9ms/step - loss: 0.0586 - acc: 0.9865 - val_loss: 0.3759 - val_acc: 0.8765\n",
      "Epoch 14/20\n",
      "30/30 [==============================] - 0s 9ms/step - loss: 0.0479 - acc: 0.9906 - val_loss: 0.4006 - val_acc: 0.8772\n",
      "Epoch 15/20\n",
      "30/30 [==============================] - 0s 9ms/step - loss: 0.0426 - acc: 0.9919 - val_loss: 0.4161 - val_acc: 0.8750\n",
      "Epoch 16/20\n",
      "30/30 [==============================] - 0s 8ms/step - loss: 0.0346 - acc: 0.9941 - val_loss: 0.4363 - val_acc: 0.8753\n",
      "Epoch 17/20\n",
      "30/30 [==============================] - 0s 9ms/step - loss: 0.0320 - acc: 0.9947 - val_loss: 0.4587 - val_acc: 0.8739\n",
      "Epoch 18/20\n",
      "30/30 [==============================] - 0s 9ms/step - loss: 0.0270 - acc: 0.9959 - val_loss: 0.4792 - val_acc: 0.8720\n",
      "Epoch 19/20\n",
      "30/30 [==============================] - 0s 9ms/step - loss: 0.0223 - acc: 0.9977 - val_loss: 0.5023 - val_acc: 0.8708\n",
      "Epoch 20/20\n",
      "30/30 [==============================] - 0s 9ms/step - loss: 0.0190 - acc: 0.9979 - val_loss: 0.5241 - val_acc: 0.8703\n"
     ]
    }
   ],
   "source": [
    "# 训练模型\n",
    "history = model.fit(partial_x_train,\n",
    "                    partial_y_train,\n",
    "                    epochs=20,\n",
    "                    batch_size=512,\n",
    "                    validation_data=(x_val, y_val))"
   ]
  },
  {
   "cell_type": "code",
   "execution_count": 10,
   "metadata": {},
   "outputs": [
    {
     "name": "stdout",
     "output_type": "stream",
     "text": [
      "Val acc: [0.8568000197410583, 0.8780999779701233, 0.8878999948501587, 0.8895000219345093, 0.8881000280380249, 0.8880000114440918, 0.8827000260353088, 0.8834999799728394, 0.8812999725341797, 0.8788999915122986, 0.8776999711990356, 0.8795999884605408, 0.8765000104904175, 0.8772000074386597, 0.875, 0.8752999901771545, 0.8738999962806702, 0.871999979019165, 0.8708000183105469, 0.8702999949455261]\n",
      "Acc: [0.7152000069618225, 0.8881999850273132, 0.9143333435058594, 0.9295333623886108, 0.9397333264350891, 0.9522666931152344, 0.9580666422843933, 0.9630666375160217, 0.9708666801452637, 0.9765999913215637, 0.9796666502952576, 0.9846000075340271, 0.9865333437919617, 0.9905999898910522, 0.9919333457946777, 0.9940666556358337, 0.9946666955947876, 0.9959333539009094, 0.9976666569709778, 0.9979333281517029]\n",
      "Val loss: [0.4653315842151642, 0.3489483892917633, 0.30017557740211487, 0.2830134630203247, 0.2770485281944275, 0.27936699986457825, 0.2957247793674469, 0.2942790985107422, 0.31204092502593994, 0.3284725546836853, 0.3436135947704315, 0.35316553711891174, 0.3759288489818573, 0.4005993902683258, 0.41605111956596375, 0.436291366815567, 0.45867523550987244, 0.4792267680168152, 0.5023294687271118, 0.5241214632987976]\n",
      "Loss: [0.5802046060562134, 0.3803301751613617, 0.2796303927898407, 0.22134006023406982, 0.18583446741104126, 0.1563241332769394, 0.13769002258777618, 0.1203092634677887, 0.10250794887542725, 0.08717117458581924, 0.07768106460571289, 0.06656671315431595, 0.058597076684236526, 0.047886814922094345, 0.042555712163448334, 0.03460513800382614, 0.032044392079114914, 0.02701353095471859, 0.02227858640253544, 0.01898445188999176]\n"
     ]
    }
   ],
   "source": [
    "# 显示训练数据\n",
    "history_dict = history.history\n",
    "print(\"Val acc:\", history_dict['val_acc'])\n",
    "print(\"Acc:\", history_dict['acc'])\n",
    "print(\"Val loss:\", history_dict['val_loss'])\n",
    "print(\"Loss:\", history_dict['loss'])"
   ]
  },
  {
   "cell_type": "code",
   "execution_count": 11,
   "metadata": {},
   "outputs": [],
   "source": [
    "# 绘制训练损失和验证损失 省略\n",
    "# 训练数据中发现模型过拟合"
   ]
  },
  {
   "cell_type": "code",
   "execution_count": 13,
   "metadata": {},
   "outputs": [
    {
     "name": "stdout",
     "output_type": "stream",
     "text": [
      "Epoch 1/4\n",
      "49/49 [==============================] - 0s 6ms/step - loss: 0.1990 - acc: 0.9456\n",
      "Epoch 2/4\n",
      "49/49 [==============================] - 0s 6ms/step - loss: 0.1372 - acc: 0.9577\n",
      "Epoch 3/4\n",
      "49/49 [==============================] - 0s 6ms/step - loss: 0.1097 - acc: 0.9674\n",
      "Epoch 4/4\n",
      "49/49 [==============================] - 0s 5ms/step - loss: 0.0903 - acc: 0.9729\n",
      "782/782 [==============================] - 1s 1ms/step - loss: 0.4928 - acc: 0.8611\n",
      "Stopped at 4th epochs.\n",
      "Loss: 0.4927731156349182\n",
      "Accuracy: 0.8611199855804443\n"
     ]
    }
   ],
   "source": [
    "# 在第三轮之后停止训练来避免过拟合（其他方法在后面介绍）\n",
    "model.fit(x_train, y_train, epochs=4, batch_size=512)\n",
    "results = model.evaluate(x_test, y_test)\n",
    "print(\"Stopped at 4th epochs.\")\n",
    "print(\"Loss:\", results[0])\n",
    "print(\"Accuracy:\", results[1])"
   ]
  }
 ],
 "metadata": {
  "kernelspec": {
   "display_name": "Python 3 (ipykernel)",
   "language": "python",
   "name": "python3"
  },
  "language_info": {
   "codemirror_mode": {
    "name": "ipython",
    "version": 3
   },
   "file_extension": ".py",
   "mimetype": "text/x-python",
   "name": "python",
   "nbconvert_exporter": "python",
   "pygments_lexer": "ipython3",
   "version": "3.11.5"
  }
 },
 "nbformat": 4,
 "nbformat_minor": 5
}
