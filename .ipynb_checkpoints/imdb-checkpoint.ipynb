{
 "cells": [
  {
   "cell_type": "code",
   "execution_count": 1,
   "id": "f2d9310b-1013-4b44-a6c7-154671944ec9",
   "metadata": {
    "tags": []
   },
   "outputs": [],
   "source": [
    "%config Completer.use_jedi = True"
   ]
  },
  {
   "cell_type": "code",
   "execution_count": 2,
   "id": "5d082314-70c0-4e14-92ca-fc6d4ed73994",
   "metadata": {},
   "outputs": [],
   "source": [
    "from keras.datasets import imdb\n",
    "import numpy as np"
   ]
  },
  {
   "cell_type": "code",
   "execution_count": 3,
   "id": "db30728a-4c60-46e1-b2fa-f50ed5c775e4",
   "metadata": {},
   "outputs": [],
   "source": [
    "# 将训练数据解码为字符串\n",
    "def decode_review(index):\n",
    "    word_index = imdb.get_word_index() # e.g \"hello\" : 123\n",
    "    reverse_word_index = dict([(value, key) for (key, value) in word_index.items()]) # e.g 123 : \"hello\"\n",
    "    decode_review = \" \".join([reverse_word_index.get(i - 3, '?') for i in train_data[index]])\n",
    "    print(decode_review)"
   ]
  },
  {
   "cell_type": "code",
   "execution_count": 4,
   "id": "b234f876-1872-454e-a518-9bcbb38a1df5",
   "metadata": {},
   "outputs": [],
   "source": [
    "# 将整数序列训练数据编码为二进制矩阵\n",
    "def vectorize_sequences(sequences, dimension=10000):\n",
    "    results = np.zeros((len(sequences), dimension))\n",
    "    for i, sequence in enumerate(sequences):\n",
    "        # e.g results[5, [4, 5, 6]] = 1\n",
    "        # results[5][4] and results[5][5] and results[5][6] are set as 1\n",
    "        # other elements remain 0\n",
    "        results[i, sequence] = 1.\n",
    "    return results"
   ]
  },
  {
   "cell_type": "code",
   "execution_count": 8,
   "id": "ef725f3f-55b7-458e-8dc4-faa7d275851c",
   "metadata": {
    "tags": []
   },
   "outputs": [],
   "source": [
    "(train_data, train_labels), (test_data, test_labels) = imdb.load_data(num_words=10000)\n",
    "x_train = vectorize_sequences(train_data)\n",
    "x_test = vectorize_sequences(test_data)\n",
    "y_train = vectorize_sequences()"
   ]
  },
  {
   "cell_type": "code",
   "execution_count": null,
   "id": "b977ff42-f5f9-4211-8de1-c86fa24b2acc",
   "metadata": {},
   "outputs": [],
   "source": []
  }
 ],
 "metadata": {
  "kernelspec": {
   "display_name": "Python 3 (ipykernel)",
   "language": "python",
   "name": "python3"
  },
  "language_info": {
   "codemirror_mode": {
    "name": "ipython",
    "version": 3
   },
   "file_extension": ".py",
   "mimetype": "text/x-python",
   "name": "python",
   "nbconvert_exporter": "python",
   "pygments_lexer": "ipython3",
   "version": "3.11.5"
  }
 },
 "nbformat": 4,
 "nbformat_minor": 5
}
